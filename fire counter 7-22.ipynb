{
 "cells": [
  {
   "cell_type": "code",
   "execution_count": 1,
   "metadata": {},
   "outputs": [],
   "source": [
    "import h5py\n",
    "import scipy.interpolate as sc\n",
    "import numpy as np\n",
    "import numpy.ma as ma\n",
    "import matplotlib.pyplot as plt\n",
    "from mpl_toolkits.basemap import Basemap"
   ]
  },
  {
   "cell_type": "code",
   "execution_count": 2,
   "metadata": {},
   "outputs": [
    {
     "name": "stdout",
     "output_type": "stream",
     "text": [
      "Enter directory path: /Users/shreya/Downloads/weeklyfiremask/MOD14A2.A2017361.h20v08.006.2018004224035.h5\n",
      "/Users/shreya/Downloads/weeklyfiremask/MOD14A2.A2017361.h20v08.006.2018004224035.h5/*.h5\n"
     ]
    }
   ],
   "source": [
    "import glob\n",
    "\n",
    "#/Users/shreya/Downloads/weeklyfiremask\n",
    "\n",
    "directory = input('Enter directory path: ')\n",
    "path = directory + '/*.h5'\n",
    "print(path)\n",
    "\n",
    "for name in glob.glob(path):\n",
    "    print ('\\t', name)"
   ]
  },
  {
   "cell_type": "code",
   "execution_count": 3,
   "metadata": {},
   "outputs": [
    {
     "name": "stdout",
     "output_type": "stream",
     "text": [
      "Input file name: /Users/shreya/Downloads/weeklyfiremask/MOD14A2.A2017361.h20v08.006.2018004224035.h5\n"
     ]
    }
   ],
   "source": [
    "# Open the data file obtained from Terra/Aqua satellite\n",
    "fle = input(\"Input file name: \")\n",
    "file = h5py.File(fle, 'r')"
   ]
  },
  {
   "cell_type": "code",
   "execution_count": 4,
   "metadata": {},
   "outputs": [
    {
     "data": {
      "text/plain": [
       "['MODIS_Grid_8Day_Fire',\n",
       " 'XDim:MODIS_Grid_8Day_Fire',\n",
       " 'YDim:MODIS_Grid_8Day_Fire']"
      ]
     },
     "execution_count": 4,
     "metadata": {},
     "output_type": "execute_result"
    }
   ],
   "source": [
    "# Check what keys are presend int he data\n",
    "list(file.keys())"
   ]
  },
  {
   "cell_type": "code",
   "execution_count": 7,
   "metadata": {
    "scrolled": true
   },
   "outputs": [],
   "source": [
    "# DO some sanity checks\n",
    "data = np.array(file['MODIS_Grid_8Day_Fire'])\n",
    "# lat = np.array(file['XDim:MODIS_Grid_8Day_Fire']) i tried doing this to see if it would help but it didn't\n",
    "# lon = np.array(file['YDim:MODIS_Grid_8Day_Fire'])\n",
    "# print('Shapes of the arrays - lat:{}, lon:{}, data:{}'.format(lat.shape, lon.shape, data.shape))"
   ]
  },
  {
   "cell_type": "code",
   "execution_count": 8,
   "metadata": {},
   "outputs": [
    {
     "name": "stdout",
     "output_type": "stream",
     "text": [
      "['Data Fields' 'Grid Attributes']\n"
     ]
    }
   ],
   "source": [
    "# Check out the range of the data\n",
    "#print('lat min, max, lon min max: {}, {}, {}, {}'.format(lat.min(), lat.max(), lon.min(), lon.max()))\n",
    "\n",
    "print(data)"
   ]
  },
  {
   "cell_type": "code",
   "execution_count": null,
   "metadata": {},
   "outputs": [],
   "source": [
    "# Plot the data on the world map, to verify that the numbers look right\n",
    "plt.figure(figsize=(30, 10))\n",
    "worldmap = Basemap(llcrnrlon=-63,llcrnrlat=-28,urcrnrlon=-37,urcrnrlat=-6.9, resolution = 'l')\n",
    "worldmap.drawcountries()\n",
    "worldmap.drawcoastlines()\n",
    "worldmap.pcolormesh(lon, lat, data)\n",
    "plt.show()"
   ]
  },
  {
   "cell_type": "code",
   "execution_count": null,
   "metadata": {},
   "outputs": [],
   "source": [
    "\"\"\"\n",
    "\n",
    "From the documentation of the data\n",
    "\n",
    "Following are the meanings of the numbers in data array\n",
    "\n",
    "0: missing input data\n",
    "1: not processed (obsolete)\n",
    "2: not processed(obsolete)\n",
    "3: non-fire water\n",
    "4: cloud\n",
    "5: non-fire land\n",
    "6: unknown\n",
    "7: fire (low confidence)\n",
    "8: fire (nominal confidence)\n",
    "9: fir (hight confidence)\n",
    "\n",
    "\"\"\""
   ]
  },
  {
   "cell_type": "code",
   "execution_count": null,
   "metadata": {},
   "outputs": [],
   "source": [
    "\"\"\"\n",
    "\n",
    "Lets do some sanity checks.\n",
    "\n",
    "First, the sum of all the data values with values from 0 to nine should be the same as the dimensions of the data array.\n",
    "\n",
    "Data array dimensions are 2030 * 1354\n",
    "\n",
    "So, is we sum up the instances in data array with values 0 through 9, they ust add up to 2030 * 1354\n",
    "\n",
    "\"\"\"\n",
    "\n",
    "total = 0\n",
    "for i in range(0,9):\n",
    "    total += (data == i).sum()\n",
    "print(total)"
   ]
  },
  {
   "cell_type": "code",
   "execution_count": null,
   "metadata": {},
   "outputs": [],
   "source": [
    "\"\"\"\n",
    "\n",
    "That establised, the total number of fires detected is the count of entries in data array \n",
    "with values matching those for fire\n",
    "\n",
    "Values 7, 8 and 9 correspond to fire with increasing confidence.\n",
    "\n",
    "We may or may not want to include the lower confidence values.\n",
    "\n",
    "\"\"\"\n",
    "\n",
    "fire_values = [7, 8, 9]\n",
    "total_number_of_fires = 0\n",
    "for value in fire_values:\n",
    "    total_number_of_fires += (data == value).sum()\n",
    "    \n",
    "print('Total number of fires in the given grid: {}'.format(total_number_of_fires))"
   ]
  },
  {
   "cell_type": "code",
   "execution_count": null,
   "metadata": {},
   "outputs": [],
   "source": [
    "def specificarea(latmin, latmax, lonmin, lonmax):\n",
    "\n",
    "    lats_mask = ma.masked_where(np.logical_or(lat <= latmin, lat >=latmax), lat)\n",
    "\n",
    "    #lats_mask = lats_mask[~np.isnan(lats_mask)]\n",
    "\n",
    "    lats_mask\n",
    "\n",
    "    #go through values that are not nan and add them to latitude array\n",
    "\n",
    "    lons_mask = ma.masked_where(np.logical_or(lon <= lonmin, lon >=lonmax), lon)\n",
    "\n",
    "    filtered_data = np.where(((lat == lats_mask) & (lon == lons_mask)), data, 0)\n",
    "    Zm = ma.masked_invalid(data)\n",
    "\n",
    "    # Plot the data on the world map, to verify that the numbers look right\n",
    "    plt.figure(figsize=(30, 10))\n",
    "    worldmap = Basemap(llcrnrlon= lonmin,llcrnrlat= latmin,urcrnrlon= lonmax,urcrnrlat= latmax, resolution = 'l')\n",
    "    worldmap.drawcountries()\n",
    "    worldmap.drawcoastlines()\n",
    "    worldmap.pcolormesh(lon, lat, filtered_data)\n",
    "    plt.show()"
   ]
  },
  {
   "cell_type": "code",
   "execution_count": null,
   "metadata": {},
   "outputs": [],
   "source": [
    "#lat min, max, lon min max: -28.008459091186523, -6.974177837371826, -63.37385940551758, -37.23870849609375\n",
    "\n",
    "specificarea(-20, -10, -50, -40)"
   ]
  }
 ],
 "metadata": {
  "kernelspec": {
   "display_name": "Python 3",
   "language": "python",
   "name": "python3"
  },
  "language_info": {
   "codemirror_mode": {
    "name": "ipython",
    "version": 3
   },
   "file_extension": ".py",
   "mimetype": "text/x-python",
   "name": "python",
   "nbconvert_exporter": "python",
   "pygments_lexer": "ipython3",
   "version": "3.8.5"
  }
 },
 "nbformat": 4,
 "nbformat_minor": 4
}
